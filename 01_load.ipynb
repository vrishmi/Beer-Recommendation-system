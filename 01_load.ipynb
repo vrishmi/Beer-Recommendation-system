{
 "cells": [
  {
   "cell_type": "markdown",
   "metadata": {},
   "source": [
    "## Load Script"
   ]
  },
  {
   "cell_type": "markdown",
   "metadata": {},
   "source": [
    "### The raw data file littered with invalid escape characters and complex combination of colons. The `json` file had to be first loaded as raw text and converted into valid `json` format before loading as `json` file."
   ]
  },
  {
   "cell_type": "code",
   "execution_count": 1,
   "metadata": {},
   "outputs": [
    {
     "name": "stdout",
     "output_type": "stream",
     "text": [
      "=== Loading beeradvocate ===\n",
      "Loaded 1586615 strings.\n",
      "Converted 1586614 dictionaries\n",
      "Wrote beeradvocate.parquet\n",
      "==============================\n",
      "=== Loading ratebeer ===\n",
      "Loaded 2924164 strings.\n",
      "Converted 2924163 dictionaries\n",
      "Wrote ratebeer.parquet\n",
      "==============================\n"
     ]
    }
   ],
   "source": [
    "import json\n",
    "import pandas as pd\n",
    "import fastparquet as fpq\n",
    "\n",
    "def clean_escape_chars(text: str):\n",
    "    return (\n",
    "        text.replace(r\"\\\\'\", \"'\")\n",
    "        \n",
    "        .replace(r\"\\\\\\t\", \" \")\n",
    "        .replace(r\"\\\\t\", \" \")\n",
    "        .replace(r\"\\t\", \" \")\n",
    "\n",
    "        .replace(r\"\\'\", \"'\")\n",
    "        .replace(r\"\\\\x\", \" \")\n",
    "        .replace(r\"\\x\", \" \")\n",
    "        .replace(r\"\\\\u\", \" \")\n",
    "        .replace(r\"\\\\\\\\\", \" \")\n",
    "    )\n",
    "\n",
    "def load_data(file_name):\n",
    "    with open(f\"./{file_name}.json\", \"r\", encoding=\"utf-8\") as f:\n",
    "        data = f.readlines()\n",
    "\n",
    "    print(f\"Loaded {len(data)} strings.\")\n",
    "\n",
    "    s_list = []\n",
    "    for i in data:\n",
    "        left, mid, right = i.partition(\"'review/text': \")\n",
    "        if left == \"\" or mid == \"\" or right == \"\":\n",
    "            continue\n",
    "        mid = '\"review/text\": '\n",
    "\n",
    "        left = left.replace('\"', \"'\")\n",
    "        left = left.replace(\"{'\", '{\"')\n",
    "        left = left.replace(\"', '\", '\", \"')\n",
    "        left = left.replace(\"': '\", '\": \"')\n",
    "        left = left.replace(\"', \", '\", ')\n",
    "        left = clean_escape_chars(left)\n",
    "\n",
    "        right = right.replace('\"', \"'\")\n",
    "        right = right.replace(\"'}\\n\", '\"}')\n",
    "        right = right.replace(\"'\", '\"', 1)\n",
    "        right = clean_escape_chars(right)\n",
    "\n",
    "        s_list.append(\" \".join([left, mid, right]))\n",
    "\n",
    "    dict_data = [json.loads(i) for i in s_list]\n",
    "\n",
    "    print(f\"Converted {len(dict_data)} dictionaries\")\n",
    "\n",
    "    del s_list\n",
    "    del data\n",
    "\n",
    "    df = pd.DataFrame(dict_data)\n",
    "    fpq.write(f'{file_name}.parquet', df)\n",
    "    print(f\"Wrote {file_name}.parquet\")\n",
    "\n",
    "file_names = (\"beeradvocate\",\"ratebeer\")\n",
    "\n",
    "for file in file_names:\n",
    "    print(f\"=== Loading {file} ===\")\n",
    "    load_data(file)\n",
    "    print(\"=\"*30)\n"
   ]
  },
  {
   "cell_type": "code",
   "execution_count": null,
   "metadata": {},
   "outputs": [],
   "source": []
  }
 ],
 "metadata": {
  "kernelspec": {
   "display_name": "venv-test",
   "language": "python",
   "name": "python3"
  },
  "language_info": {
   "codemirror_mode": {
    "name": "ipython",
    "version": 3
   },
   "file_extension": ".py",
   "mimetype": "text/x-python",
   "name": "python",
   "nbconvert_exporter": "python",
   "pygments_lexer": "ipython3",
   "version": "3.10.7"
  }
 },
 "nbformat": 4,
 "nbformat_minor": 2
}
