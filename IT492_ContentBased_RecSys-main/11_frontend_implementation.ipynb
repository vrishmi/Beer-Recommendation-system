{
  "cells": [
    {
      "cell_type": "markdown",
      "metadata": {},
      "source": [
        "### Front end implementation on a subset of raw data (Done during preprocessing & computation of more advanced model)"
      ]
    },
    {
      "cell_type": "code",
      "execution_count": null,
      "metadata": {
        "id": "eIH875AkzNKD"
      },
      "outputs": [],
      "source": [
        "import streamlit as st\n",
        "import pandas as pd\n",
        "import pickle\n",
        "import numpy as np\n",
        "\n",
        "# Loading the beer data\n",
        "beers = pickle.load(open('beer_list.pkl', 'rb'))\n",
        "df = pd.read_pickle('popular_df.pkl')\n",
        "rat_similarity = pickle.load(open('rat_sim.pkl', 'rb'))\n",
        "\n",
        "#Content based Recommendation Function\n",
        "def recommend(selected_beer):\n",
        "    index = beers[beers['beer/name'] == selected_beer].index\n",
        "    if not index.empty:\n",
        "        index = index[0]\n",
        "        similarity_values = rat_similarity[index]\n",
        "        indices_descending = np.argsort(similarity_values)[::-1]\n",
        "        #Recommending the top 5 beers according to the selected beer by user\n",
        "        top_indices = [i for i in indices_descending if i != index][:5]\n",
        "        recommended_beer_names = [beers.iloc[i]['beer/name'] for i in top_indices]\n",
        "        return recommended_beer_names\n",
        "    else:\n",
        "        return []\n",
        "\n",
        "# Function to get recommendations of popular beers only\n",
        "def popular_recommend(beer_name):\n",
        "    index = np.where(df['beer/name'] == beer_name)[0]\n",
        "    if len(index) == 0:\n",
        "        return []\n",
        "    similar_items = sorted(list(enumerate(rat_similarity[index[0]])), key=lambda x: x[1], reverse=True)[1:6]\n",
        "    recommendations = []\n",
        "    for i in similar_items:\n",
        "        temp_df = df[df['beer/name'] == df.iloc[i[0]]['beer/name']]\n",
        "        recommendations.append((temp_df.iloc[0]['beer/name'], temp_df.iloc[0]['review/overall'], temp_df.iloc[0]['beer/style']))\n",
        "    return recommendations\n",
        "\n",
        "background_image_url = 'https://images.unsplash.com/photo-1600788886242-5c96aabe3757?q=80&w=1887&auto=format&fit=crop&ixlib=rb-4.0.3&ixid=M3wxMjA3fDB8MHxwaG90by1wYWdlfHx8fGVufDB8fHx8fA%3D%3D'\n",
        "st.image(background_image_url, width=106)\n",
        "st.title(\"Beer Recommendation System\")\n",
        "\n",
        "\n",
        "# Input Section for user to select a beer\n",
        "selected_beer = st.selectbox(\"Type or select a beer from the dropdown\", beers['beer/name'].values)\n",
        "#Showing the Alcohol By Volume of the Selected Beer\n",
        "abv = beers.loc[beers['beer/name'] == selected_beer, 'beer/ABV'].values\n",
        "if len(abv) > 0:\n",
        "    st.write(f\"**ABV (Alcohol By Volume) of {selected_beer}:** {abv[0]}\")\n",
        "if selected_beer:\n",
        "    # st.subheader(f\"Visualizations for {selected_beer}\")\n",
        "\n",
        "    # Filtering dataframe to get ratings for selected beer\n",
        "    selected_beer_ratings = beers[beers['beer/name'] == selected_beer]['review/overall'].values\n",
        "\n",
        "    # Creating a histogram of ratings\n",
        "    # st.bar_chart(selected_beer_ratings)\n",
        "\n",
        "# Giving recommendations by textual review\n",
        "if st.button(\"Get Recommendations by Review\"):\n",
        "    recommendations = recommend(selected_beer)\n",
        "    if recommendations:\n",
        "        st.write(\"Top 5 Recommended Beers:\")\n",
        "        for recommendation in recommendations:\n",
        "            st.write(recommendation)\n",
        "    else:\n",
        "        st.write(\"No recommendations found for the selected beer.\")\n",
        "\n",
        "# Giving dropdown to User for selecting a beer for popularity-based recommendations\n",
        "selected_popular_beer = st.selectbox(\"Type or select a beer from the dropdown\", df['beer/name'].values)\n",
        "\n",
        "# Giving recommendations by popularity\n",
        "if st.button(\"Get Recommendations by Popularity\"):\n",
        "    recommendations = popular_recommend(selected_popular_beer)\n",
        "    if recommendations:\n",
        "        st.write(\"Top 5 Recommended Beers:\")\n",
        "        recommendations_df = pd.DataFrame(recommendations, columns=['Beer Name', 'Overall Rating', 'Beer Style'])\n",
        "        st.dataframe(recommendations_df)\n",
        "    else:\n",
        "        st.write(\"No recommendations found for the selected beer.\")\n"
      ]
    }
  ],
  "metadata": {
    "colab": {
      "provenance": []
    },
    "kernelspec": {
      "display_name": "Python 3",
      "name": "python3"
    },
    "language_info": {
      "name": "python"
    }
  },
  "nbformat": 4,
  "nbformat_minor": 0
}
